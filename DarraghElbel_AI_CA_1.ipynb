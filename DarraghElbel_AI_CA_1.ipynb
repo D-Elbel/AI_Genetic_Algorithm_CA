{
  "cells": [
    {
      "cell_type": "markdown",
      "metadata": {
        "id": "UuU23he_msf6"
      },
      "source": [
        "# Genetic Algorithm Assignment\n",
        "30% of the overall grade for this module\n",
        "\n",
        "Marks indciated in sections below are based on percentage of marks allocated for this module\n",
        "\n",
        "In this assignment you must choose a problem, and attempt to use the Genetic Alogrithm that we developed in class to solve this problem.\n",
        "\n",
        "\n",
        "\n"
      ]
    },
    {
      "cell_type": "markdown",
      "metadata": {
        "id": "xOpdeYD9oLWi"
      },
      "source": [
        "## The Problem         **(~30%)**\n",
        "\n",
        "*   Description of the problem\n",
        "\n",
        "\n",
        "\n"
      ]
    },
    {
      "cell_type": "markdown",
      "metadata": {
        "id": "4uQ4i7aopwP0"
      },
      "source": [
        "---\n",
        "\n",
        "(Double click then ...)  Type Here...\n",
        "\n",
        "---\n",
        "\n"
      ]
    },
    {
      "cell_type": "markdown",
      "metadata": {
        "id": "rWvzNi3uqCKy"
      },
      "source": [
        "*   Discussion of the suitablity of Genetic Algorithms\n"
      ]
    },
    {
      "cell_type": "markdown",
      "metadata": {
        "id": "aMzEaqZAqmYT"
      },
      "source": [
        "---\n",
        "\n",
        "(Double click then ...)  Type Here...\n",
        "\n",
        "---\n",
        "\n"
      ]
    },
    {
      "cell_type": "markdown",
      "metadata": {
        "id": "1c4zr525qHk0"
      },
      "source": [
        "*   Complexity of the problem  (Overall marks allocated based on ..)"
      ]
    },
    {
      "cell_type": "markdown",
      "metadata": {
        "id": "0LgfBTtdq11F"
      },
      "source": [
        "# The problem and the cost function   **(~20%)**"
      ]
    },
    {
      "cell_type": "code",
      "execution_count": 1,
      "metadata": {},
      "outputs": [],
      "source": [
        "#imports\n",
        "import numpy as np\n",
        "from PIL import Image, ImageDraw"
      ]
    },
    {
      "cell_type": "code",
      "execution_count": 23,
      "metadata": {
        "id": "rwIdSMNqrPS5"
      },
      "outputs": [],
      "source": [
        "def cost_function(individual, target_image):\n",
        "    return\n",
        "\n",
        "def create_random_image(width, height):\n",
        "    return np.random.randint(0, 255, (width, height, 3), dtype=np.uint8)\n",
        "\n",
        "class problem:\n",
        "    def __init__(self):\n",
        "        self.width = 10\n",
        "        self.height = 10\n",
        "        self.number_of_genes = self.width * self.height\n",
        "        self.cost_function = cost_function\n"
      ]
    },
    {
      "cell_type": "markdown",
      "metadata": {
        "id": "wBQQjO4brWFA"
      },
      "source": [
        "# The Individual **(~30%)**\n",
        "\n",
        "\n",
        "*   Chromosone\n",
        "*   Crossover\n",
        "*   Mutation\n",
        "\n"
      ]
    },
    {
      "cell_type": "markdown",
      "metadata": {
        "id": "-Yr5xlW3rx21"
      },
      "source": [
        "## Discussion and justification on the approaches taken for the above"
      ]
    },
    {
      "cell_type": "markdown",
      "metadata": {
        "id": "-5eIa-LKsREQ"
      },
      "source": [
        "---\n",
        "\n",
        "(Double click then ...)  Type Here...\n",
        "\n",
        "---\n",
        "\n"
      ]
    },
    {
      "cell_type": "code",
      "execution_count": 70,
      "metadata": {
        "id": "Hqtg_3MimjYL"
      },
      "outputs": [],
      "source": [
        "# Code for individual class in here\n",
        "\n",
        "\n",
        "class individual:\n",
        "    chromosome = None\n",
        "    cost = None\n",
        "    number_of_genes = None\n",
        "\n",
        "    def __init__(self, prob):\n",
        "        self.chromosome = create_random_image(prob.width, prob.height)\n",
        "        self.number_of_genes = prob.number_of_genes\n",
        "        \n",
        "    def mutate(self, mutation_rate, mutation_range):\n",
        "        for i in range (0, self.number_of_genes):\n",
        "            random = np.random.uniform()\n",
        "            if random < mutation_rate:\n",
        "                row_to_mutate = np.random.randint(0, len(self.chromosome))\n",
        "                pixel_to_mutate = np.random.randint(0, len(self.chromosome[row_to_mutate]))\n",
        "              \n",
        "\n",
        "                r_mutation = np.random.uniform(self.chromosome[row_to_mutate][pixel_to_mutate][0] - mutation_range, self.chromosome[row_to_mutate][pixel_to_mutate][0] + mutation_range)\n",
        "            \n",
        "                g_mutation = np.random.uniform(self.chromosome[row_to_mutate][pixel_to_mutate][1] - mutation_range, self.chromosome[row_to_mutate][pixel_to_mutate][1] + mutation_range)\n",
        "             \n",
        "                b_mutation = np.random.uniform(self.chromosome[row_to_mutate][pixel_to_mutate][2] - mutation_range, self.chromosome[row_to_mutate][pixel_to_mutate][2] + mutation_range)\n",
        "               \n",
        "                self.chromosome[row_to_mutate][pixel_to_mutate] = [r_mutation, g_mutation, b_mutation]\n",
        "                \n",
        "            \n",
        "              "
      ]
    },
    {
      "cell_type": "code",
      "execution_count": 71,
      "metadata": {},
      "outputs": [
        {
          "data": {
            "text/plain": [
              "<matplotlib.image.AxesImage at 0x19f139accd0>"
            ]
          },
          "execution_count": 71,
          "metadata": {},
          "output_type": "execute_result"
        },
        {
          "data": {
            "image/png": "[encoded data removed]",
            "text/plain": [
              "<Figure size 640x480 with 1 Axes>"
            ]
          },
          "metadata": {},
          "output_type": "display_data"
        }
      ],
      "source": [
        "import matplotlib.pyplot as plt\n",
        "p1 = problem()\n",
        "ind1 = individual(p1)\n",
        "img = Image.fromarray(ind1.chromosome, 'RGB')\n",
        "plt.imshow(img)\n",
        "\n"
      ]
    },
    {
      "cell_type": "code",
      "execution_count": 72,
      "metadata": {},
      "outputs": [
        {
          "name": "stdout",
          "output_type": "stream",
          "text": [
            "mutating0.2668767581151288\n",
            "mutating0.6381287000363021\n",
            "mutating0.937696214742256\n",
            "mutating0.32609200426248\n",
            "mutating0.7034075548498737\n",
            "mutating0.6589851634377238\n",
            "mutating0.40429198966179203\n",
            "mutating0.7775511495909687\n",
            "mutating0.7727457022959912\n",
            "mutating0.3382778085543564\n",
            "mutating0.5397256288112191\n",
            "mutating0.04840935544725333\n",
            "mutating0.413562365813568\n",
            "mutating0.9713683268035014\n",
            "mutating0.2678387299417988\n",
            "mutating0.5393588216094103\n",
            "mutating0.7302339312729194\n",
            "mutating0.7478923206674203\n",
            "mutating0.06566505175780624\n",
            "mutating0.5777117963887305\n",
            "mutating0.5104252247778099\n",
            "mutating0.04570439487672118\n",
            "mutating0.3520316222280111\n",
            "mutating0.7304851704985207\n",
            "mutating0.8518846515585726\n",
            "mutating0.7819975303917831\n",
            "mutating0.26108291307343745\n",
            "mutating0.7221087888293015\n",
            "mutating0.9915807537317463\n",
            "mutating0.47781115618613246\n",
            "mutating0.4748510203842967\n",
            "mutating0.7950508030571767\n",
            "mutating0.9096286208860868\n",
            "mutating0.4106585572491743\n",
            "mutating0.5333791415067223\n",
            "mutating0.49953733367934106\n",
            "mutating0.8645120681929749\n",
            "mutating0.9721029049468966\n",
            "mutating0.02485445971792133\n",
            "mutating0.9424183832348848\n",
            "mutating0.6352158108788725\n",
            "mutating0.7898269755833771\n",
            "mutating0.9716180998555949\n",
            "mutating0.5320731634548973\n",
            "mutating0.8868730904763056\n",
            "mutating0.663862062237098\n",
            "mutating0.5465481630720052\n",
            "mutating0.018694382066248627\n",
            "mutating0.031311786515654805\n",
            "mutating0.48910116835426654\n",
            "mutating0.8458413096953947\n",
            "mutating0.5386474521472511\n",
            "mutating0.03986502384770918\n",
            "mutating0.4923685063287879\n",
            "mutating0.8060563987164664\n",
            "mutating0.21966627192255395\n",
            "mutating0.5106372586287055\n",
            "mutating0.9295085446688517\n",
            "mutating0.23097721079272415\n",
            "mutating0.15662922152272263\n",
            "mutating0.05296793586074766\n",
            "mutating0.6071625228819485\n",
            "mutating0.8741294805896899\n",
            "mutating0.47490220316231957\n",
            "mutating0.5791374949967929\n",
            "mutating0.9016937943313049\n",
            "mutating0.4751052043672622\n",
            "mutating0.5161708486258856\n",
            "mutating0.7445042812860748\n",
            "mutating0.4487685335264633\n",
            "mutating0.9238860052350761\n",
            "mutating0.17402221929064177\n",
            "mutating0.08492256938122544\n",
            "mutating0.11786060413010657\n",
            "mutating0.15245366755923662\n",
            "mutating0.6199737132917721\n",
            "mutating0.731347758146573\n",
            "mutating0.5643418109050954\n",
            "mutating0.15924896450032977\n",
            "mutating0.28031162202435667\n",
            "mutating0.7506372464490337\n",
            "mutating0.5485132173562277\n",
            "mutating0.2215411582161465\n",
            "mutating0.8920452050165462\n",
            "mutating0.929490699829472\n",
            "mutating0.46913670728517953\n",
            "mutating0.42569809439184914\n",
            "mutating0.3533717137692428\n",
            "mutating0.8293844603384218\n",
            "mutating0.7945559139646027\n",
            "mutating0.7217879478855597\n",
            "mutating0.42167391355456463\n",
            "mutating0.24085120282892092\n",
            "mutating0.11115728386195978\n",
            "mutating0.775334495624684\n",
            "mutating0.5775916298192426\n",
            "mutating0.39048936203360907\n",
            "mutating0.7834626647601085\n",
            "mutating0.6508020619728212\n",
            "mutating0.68493356449577\n"
          ]
        },
        {
          "data": {
            "image/png": "[encoded data removed]",
            "text/plain": [
              "<Figure size 640x480 with 1 Axes>"
            ]
          },
          "metadata": {},
          "output_type": "display_data"
        }
      ],
      "source": [
        "\n",
        "ind1.mutate(1, 25)\n",
        "#draw the image \n",
        "\n",
        "img = Image.fromarray(ind1.chromosome, 'RGB')\n",
        "#show the image as a pixel plot inside the notebook\n",
        "\n",
        "plt.imshow(img)\n",
        "plt.show()"
      ]
    },
    {
      "cell_type": "code",
      "execution_count": 32,
      "metadata": {},
      "outputs": [],
      "source": [
        "\n"
      ]
    },
    {
      "cell_type": "markdown",
      "metadata": {
        "id": "59WmNNhiscZ9"
      },
      "source": [
        "## Running the algorithm  **(~10%)**\n",
        "\n",
        "*   Parameter choices\n",
        "*   Modifications (if any) to run_genetic\n",
        "*   Rationale for the above\n",
        "\n"
      ]
    },
    {
      "cell_type": "markdown",
      "metadata": {
        "id": "n8BK_jFwub_j"
      },
      "source": [
        "---\n",
        "\n",
        "(Double click then ...)  Type Here...\n",
        "\n",
        "---\n",
        "\n"
      ]
    },
    {
      "cell_type": "code",
      "execution_count": null,
      "metadata": {
        "id": "qYE-UMBos_nR"
      },
      "outputs": [],
      "source": [
        "#  Parameter class here\n",
        "class parameters:\n",
        "  def __init__(self):\n",
        "    self.population  = 1000\n",
        "    self.number_of_generations = 100\n",
        "    self.child_rate_per_generation = 1\n",
        "    self.crossover_explore_rate = 0.5\n",
        "    self.gene_mutate_rate = 0.2"
      ]
    },
    {
      "cell_type": "code",
      "execution_count": null,
      "metadata": {
        "id": "uMURavCWtEan"
      },
      "outputs": [],
      "source": [
        "# Run Genetic method here"
      ]
    },
    {
      "cell_type": "code",
      "execution_count": null,
      "metadata": {
        "id": "lzt2-_8HtJtr"
      },
      "outputs": [],
      "source": [
        "#  Running of the algorithm with outputs here"
      ]
    },
    {
      "cell_type": "code",
      "execution_count": null,
      "metadata": {
        "id": "KUrAxEdDtTmf"
      },
      "outputs": [],
      "source": [
        "#  If changes to params or reruns of iterations dont overwrite, create more cells and copy code down to show evolution of final solution"
      ]
    },
    {
      "cell_type": "markdown",
      "metadata": {
        "id": "Hupr4W2_tmZA"
      },
      "source": [
        "## Results and conclusions    **(~10%)**"
      ]
    },
    {
      "cell_type": "markdown",
      "metadata": {
        "id": "p0Yqo3GeuVtn"
      },
      "source": [
        "---\n",
        "\n",
        "(Double click then ...)  Type Here...\n",
        "\n",
        "---\n",
        "\n"
      ]
    }
  ],
  "metadata": {
    "colab": {
      "provenance": []
    },
    "kernelspec": {
      "display_name": "Python 3",
      "name": "python3"
    },
    "language_info": {
      "codemirror_mode": {
        "name": "ipython",
        "version": 3
      },
      "file_extension": ".py",
      "mimetype": "text/x-python",
      "name": "python",
      "nbconvert_exporter": "python",
      "pygments_lexer": "ipython3",
      "version": "3.11.5"
    }
  },
  "nbformat": 4,
  "nbformat_minor": 0
}

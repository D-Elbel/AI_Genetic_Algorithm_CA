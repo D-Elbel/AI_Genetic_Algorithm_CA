{
  "cells": [
    {
      "cell_type": "markdown",
      "metadata": {
        "id": "UuU23he_msf6"
      },
      "source": [
        "# Genetic Algorithm Assignment\n",
        "30% of the overall grade for this module\n",
        "\n",
        "Marks indciated in sections below are based on percentage of marks allocated for this module\n",
        "\n",
        "In this assignment you must choose a problem, and attempt to use the Genetic Alogrithm that we developed in class to solve this problem.\n",
        "\n",
        "\n",
        "\n"
      ]
    },
    {
      "cell_type": "markdown",
      "metadata": {
        "id": "xOpdeYD9oLWi"
      },
      "source": [
        "## The Problem         **(~30%)**\n",
        "\n",
        "*   Description of the problem\n",
        "\n",
        "\n",
        "\n"
      ]
    },
    {
      "cell_type": "markdown",
      "metadata": {
        "id": "4uQ4i7aopwP0"
      },
      "source": [
        "---\n",
        "\n",
        "(Double click then ...)  Type Here...\n",
        "\n",
        "---\n",
        "\n"
      ]
    },
    {
      "cell_type": "markdown",
      "metadata": {
        "id": "rWvzNi3uqCKy"
      },
      "source": [
        "*   Discussion of the suitablity of Genetic Algorithms\n"
      ]
    },
    {
      "cell_type": "markdown",
      "metadata": {
        "id": "aMzEaqZAqmYT"
      },
      "source": [
        "---\n",
        "\n",
        "(Double click then ...)  Type Here...\n",
        "\n",
        "---\n",
        "\n"
      ]
    },
    {
      "cell_type": "markdown",
      "metadata": {
        "id": "1c4zr525qHk0"
      },
      "source": [
        "*   Complexity of the problem  (Overall marks allocated based on ..)"
      ]
    },
    {
      "cell_type": "markdown",
      "metadata": {
        "id": "0LgfBTtdq11F"
      },
      "source": [
        "# The problem and the cost function   **(~20%)**"
      ]
    },
    {
      "cell_type": "code",
      "execution_count": 17,
      "metadata": {},
      "outputs": [],
      "source": [
        "#imports\n",
        "import numpy as np\n",
        "from PIL import Image, ImageDraw"
      ]
    },
    {
      "cell_type": "code",
      "execution_count": 38,
      "metadata": {
        "id": "rwIdSMNqrPS5"
      },
      "outputs": [],
      "source": [
        "def cost_function(individual, target_image):\n",
        "    return\n",
        "\n",
        "def create_random_image(width, height):\n",
        "    return np.random.randint(0, 255, (width, height, 3), dtype=np.uint8)\n",
        "\n",
        "class problem:\n",
        "    def __init__(self):\n",
        "        self.width = 2\n",
        "        self.height = 2\n",
        "        self.number_of_genes = self.width * self.height\n",
        "        self.cost_function = cost_function\n"
      ]
    },
    {
      "cell_type": "markdown",
      "metadata": {
        "id": "wBQQjO4brWFA"
      },
      "source": [
        "# The Individual **(~30%)**\n",
        "\n",
        "\n",
        "*   Chromosone\n",
        "*   Crossover\n",
        "*   Mutation\n",
        "\n"
      ]
    },
    {
      "cell_type": "markdown",
      "metadata": {
        "id": "-Yr5xlW3rx21"
      },
      "source": [
        "## Discussion and justification on the approaches taken for the above"
      ]
    },
    {
      "cell_type": "markdown",
      "metadata": {
        "id": "-5eIa-LKsREQ"
      },
      "source": [
        "---\n",
        "\n",
        "(Double click then ...)  Type Here...\n",
        "\n",
        "---\n",
        "\n"
      ]
    },
    {
      "cell_type": "code",
      "execution_count": 83,
      "metadata": {
        "id": "Hqtg_3MimjYL"
      },
      "outputs": [],
      "source": [
        "# Code for individual class in here\n",
        "\n",
        "\n",
        "class individual:\n",
        "    chromosome = None\n",
        "    cost = None\n",
        "\n",
        "    def __init__(self, prob):\n",
        "        self.chromosome = create_random_image(prob.width, prob.height)\n",
        "        \n",
        "    def mutate(self, mutation_rate, mutation_range):\n",
        "        if np.random.uniform() < mutation_rate:\n",
        "            row_to_mutate = np.random.randint(0, len(self.chromosome))\n",
        "            pixel_to_mutate = np.random.randint(0, len(self.chromosome[row_to_mutate]))\n",
        "            print(\"Before Mutation\")\n",
        "            print(self.chromosome[row_to_mutate][pixel_to_mutate])\n",
        "\n",
        "            r_mutation = np.random.uniform(self.chromosome[row_to_mutate][pixel_to_mutate][0] - mutation_range, self.chromosome[row_to_mutate][pixel_to_mutate][0] + mutation_range)\n",
        "            print(r_mutation)\n",
        "            g_mutation = np.random.uniform(self.chromosome[row_to_mutate][pixel_to_mutate][1] - mutation_range, self.chromosome[row_to_mutate][pixel_to_mutate][1] + mutation_range)\n",
        "            print(g_mutation)\n",
        "            b_mutation = np.random.uniform(self.chromosome[row_to_mutate][pixel_to_mutate][2] - mutation_range, self.chromosome[row_to_mutate][pixel_to_mutate][2] + mutation_range)\n",
        "            print(b_mutation)\n",
        "            self.chromosome[row_to_mutate][pixel_to_mutate] = [r_mutation, g_mutation, b_mutation]\n",
        "            print(\"After Mutation\")\n",
        "            print(self.chromosome[row_to_mutate][pixel_to_mutate])"
      ]
    },
    {
      "cell_type": "code",
      "execution_count": null,
      "metadata": {},
      "outputs": [],
      "source": [
        "a = [1, 2, 3]\n",
        "b = [3,4,5]\n"
      ]
    },
    {
      "cell_type": "code",
      "execution_count": 109,
      "metadata": {},
      "outputs": [
        {
          "name": "stdout",
          "output_type": "stream",
          "text": [
            "Before Mutation\n",
            "[137 209 251]\n",
            "129.04329612608305\n",
            "218.53340361522112\n",
            "246.73641450509666\n",
            "After Mutation\n",
            "[129 218 246]\n"
          ]
        }
      ],
      "source": [
        "p1 = problem()\n",
        "ind1 = individual(p1)\n",
        "\n",
        "ind1.mutate(0.8, 10)"
      ]
    },
    {
      "cell_type": "code",
      "execution_count": 32,
      "metadata": {},
      "outputs": [],
      "source": [
        "\n"
      ]
    },
    {
      "cell_type": "markdown",
      "metadata": {
        "id": "59WmNNhiscZ9"
      },
      "source": [
        "## Running the algorithm  **(~10%)**\n",
        "\n",
        "*   Parameter choices\n",
        "*   Modifications (if any) to run_genetic\n",
        "*   Rationale for the above\n",
        "\n"
      ]
    },
    {
      "cell_type": "markdown",
      "metadata": {
        "id": "n8BK_jFwub_j"
      },
      "source": [
        "---\n",
        "\n",
        "(Double click then ...)  Type Here...\n",
        "\n",
        "---\n",
        "\n"
      ]
    },
    {
      "cell_type": "code",
      "execution_count": null,
      "metadata": {
        "id": "qYE-UMBos_nR"
      },
      "outputs": [],
      "source": [
        "#  Parameter class here\n",
        "class parameters:\n",
        "  def __init__(self):\n",
        "    self.population  = 1000\n",
        "    self.number_of_generations = 100\n",
        "    self.child_rate_per_generation = 1\n",
        "    self.crossover_explore_rate = 0.5\n",
        "    self.gene_mutate_rate = 0.2"
      ]
    },
    {
      "cell_type": "code",
      "execution_count": null,
      "metadata": {
        "id": "uMURavCWtEan"
      },
      "outputs": [],
      "source": [
        "# Run Genetic method here"
      ]
    },
    {
      "cell_type": "code",
      "execution_count": null,
      "metadata": {
        "id": "lzt2-_8HtJtr"
      },
      "outputs": [],
      "source": [
        "#  Running of the algorithm with outputs here"
      ]
    },
    {
      "cell_type": "code",
      "execution_count": null,
      "metadata": {
        "id": "KUrAxEdDtTmf"
      },
      "outputs": [],
      "source": [
        "#  If changes to params or reruns of iterations dont overwrite, create more cells and copy code down to show evolution of final solution"
      ]
    },
    {
      "cell_type": "markdown",
      "metadata": {
        "id": "Hupr4W2_tmZA"
      },
      "source": [
        "## Results and conclusions    **(~10%)**"
      ]
    },
    {
      "cell_type": "markdown",
      "metadata": {
        "id": "p0Yqo3GeuVtn"
      },
      "source": [
        "---\n",
        "\n",
        "(Double click then ...)  Type Here...\n",
        "\n",
        "---\n",
        "\n"
      ]
    }
  ],
  "metadata": {
    "colab": {
      "provenance": []
    },
    "kernelspec": {
      "display_name": "Python 3",
      "name": "python3"
    },
    "language_info": {
      "codemirror_mode": {
        "name": "ipython",
        "version": 3
      },
      "file_extension": ".py",
      "mimetype": "text/x-python",
      "name": "python",
      "nbconvert_exporter": "python",
      "pygments_lexer": "ipython3",
      "version": "3.8.3"
    }
  },
  "nbformat": 4,
  "nbformat_minor": 0
}
